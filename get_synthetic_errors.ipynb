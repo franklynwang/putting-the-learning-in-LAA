{
 "cells": [
  {
   "cell_type": "code",
   "execution_count": 2,
   "metadata": {},
   "outputs": [
    {
     "name": "stderr",
     "output_type": "stream",
     "text": [
      "100%|██████████| 1000/1000 [01:03<00:00, 15.79it/s]\n",
      "100%|██████████| 1000/1000 [01:37<00:00, 10.24it/s]\n",
      "100%|██████████| 1000/1000 [01:46<00:00,  9.35it/s]\n",
      "100%|██████████| 1000/1000 [02:39<00:00,  6.29it/s]\n",
      "  0%|          | 2/1000 [00:00<01:06, 14.95it/s]"
     ]
    },
    {
     "name": "stdout",
     "output_type": "stream",
     "text": [
      "No Screening, 20000 cells, 1000 trials, average f error\n",
      "0 layers (error): 592.16\n",
      "1 layers (error): 529.23\n",
      "2 layers (error): 731.38\n",
      "3 layers (error): 952.03\n",
      "\n",
      "No Screening, 20000 cells, 1000 trials, average e resid\n",
      "0 layers (e resid): 592.16\n",
      "1 layers (e resid): 529.23\n",
      "2 layers (e resid): 731.38\n",
      "3 layers (e resid): 952.03\n",
      "\n",
      "No Screening, 20000 cells, 1000 trials, average l2 error\n",
      "0 layers (l2 err): 9098.19\n",
      "1 layers (l2 err): 686.32\n",
      "2 layers (l2 err): 769.70\n",
      "3 layers (l2 err): 983.48\n",
      "\n"
     ]
    },
    {
     "name": "stderr",
     "output_type": "stream",
     "text": [
      "100%|██████████| 1000/1000 [01:06<00:00, 14.93it/s]\n",
      "100%|██████████| 1000/1000 [01:43<00:00,  9.66it/s]\n",
      "100%|██████████| 1000/1000 [01:51<00:00,  8.94it/s]\n",
      "100%|██████████| 1000/1000 [02:44<00:00,  6.07it/s]\n",
      "  0%|          | 2/1000 [00:00<01:05, 15.29it/s]"
     ]
    },
    {
     "name": "stdout",
     "output_type": "stream",
     "text": [
      "Imperfect Screening, 20000 cells, 1000 trials, average f error\n",
      "0 layers (error): 133.58\n",
      "1 layers (error): 167.30\n",
      "2 layers (error): 241.49\n",
      "3 layers (error): 318.94\n",
      "\n",
      "Imperfect Screening, 20000 cells, 1000 trials, average e resid\n",
      "0 layers (e resid): 297.91\n",
      "1 layers (e resid): 373.13\n",
      "2 layers (e resid): 538.59\n",
      "3 layers (e resid): 711.32\n",
      "\n",
      "Imperfect Screening, 20000 cells, 1000 trials, average l2 error\n",
      "0 layers (l2 err): 3169.78\n",
      "1 layers (l2 err): 394.08\n",
      "2 layers (l2 err): 543.02\n",
      "3 layers (l2 err): 713.80\n",
      "\n"
     ]
    },
    {
     "name": "stderr",
     "output_type": "stream",
     "text": [
      "100%|██████████| 1000/1000 [01:10<00:00, 14.26it/s]\n",
      "100%|██████████| 1000/1000 [01:52<00:00,  8.91it/s]\n",
      "100%|██████████| 1000/1000 [01:50<00:00,  9.07it/s]\n",
      "100%|██████████| 1000/1000 [02:34<00:00,  6.46it/s]"
     ]
    },
    {
     "name": "stdout",
     "output_type": "stream",
     "text": [
      "Perfect Screening, 20000 cells, 1000 trials, average f error\n",
      "0 layers (error): 62.75\n",
      "1 layers (error): 109.17\n",
      "2 layers (error): 158.90\n",
      "3 layers (error): 210.12\n",
      "\n",
      "Perfect Screening, 20000 cells, 1000 trials, average e resid\n",
      "0 layers (e resid): 209.36\n",
      "1 layers (e resid): 364.22\n",
      "2 layers (e resid): 530.13\n",
      "3 layers (e resid): 701.01\n",
      "\n",
      "Perfect Screening, 20000 cells, 1000 trials, average l2 error\n",
      "0 layers (l2 err): 219.29\n",
      "1 layers (l2 err): 369.31\n",
      "2 layers (l2 err): 533.03\n",
      "3 layers (l2 err): 702.36\n",
      "\n"
     ]
    },
    {
     "name": "stderr",
     "output_type": "stream",
     "text": [
      "\n"
     ]
    }
   ],
   "source": [
    "import numpy as np\n",
    "import sketches\n",
    "import matplotlib.pyplot as plt\n",
    "import pandas as pd\n",
    "from tqdm import tqdm\n",
    "import torch\n",
    "\n",
    "n = 1000000\n",
    "def get_f_error(true, pred):\n",
    "    return torch.sum(true * abs(pred - true)) / torch.sum(true)\n",
    "\n",
    "def get_l2_error(true, pred):\n",
    "    delta = (true - pred).float()\n",
    "    return torch.sqrt(torch.mean(delta ** 2))\n",
    "\n",
    "def get_errors(sketch, title, orig_freqs, mask, space, trials=1):\n",
    "    widths = []\n",
    "    new_freqs = orig_freqs.detach().clone()\n",
    "    if len(mask) > 0:\n",
    "        new_freqs[mask] = 0\n",
    "    errs = []\n",
    "    l2errs = []\n",
    "    eresid = []\n",
    "    for nhashes in range(1, 5): #modify this if you want to change the hyperparameters. \n",
    "        running_err = 0\n",
    "        running_l2err = 0\n",
    "        running_eresid = 0\n",
    "        for trial in tqdm(range(trials)):\n",
    "            if sketch == \"Count-Sketch\":\n",
    "                preds = torch.Tensor(sketches.count_sketch_preds(nhashes, new_freqs.numpy(), space // nhashes, 10 + trial)).int()\n",
    "            if sketch == \"Count-Min\":\n",
    "                preds = torch.Tensor(sketches.cm_sketch_preds(nhashes, new_freqs.numpy(), space // nhashes, 10 + trial)).int()\n",
    "            if len(mask) > 0:\n",
    "                preds[mask] = orig_freqs.detach().clone()[mask]\n",
    "            running_err += get_f_error(orig_freqs, preds).item()\n",
    "            running_eresid += get_f_error(orig_freqs, preds).item() * orig_freqs.sum() / new_freqs.sum()\n",
    "            running_l2err += get_l2_error(orig_freqs, preds).item()\n",
    "        errs.append(running_err / trials)\n",
    "        l2errs.append(running_l2err / trials)\n",
    "        eresid.append(running_eresid / trials)\n",
    "    print(f\"{title}, {space} cells, {trials} trials, average f error\")\n",
    "    for i in range(nhashes):\n",
    "        print(f\"{i} layers (error): {errs[i]:.02f}\")\n",
    "    print()\n",
    "    \n",
    "    print(f\"{title}, {space} cells, {trials} trials, average e resid\")\n",
    "    for i in range(nhashes):\n",
    "        print(f\"{i} layers (e resid): {eresid[i]:.02f}\")\n",
    "    print()\n",
    "    \n",
    "    print(f\"{title}, {space} cells, {trials} trials, average l2 error\")\n",
    "    for i in range(nhashes):\n",
    "        print(f\"{i} layers (l2 err): {l2errs[i]:.02f}\")\n",
    "    print()\n",
    "        \n",
    "def get_all_errors(freqs, trials=1000):\n",
    "    no_mask = torch.IntTensor([])\n",
    "    bad_mask = torch.multinomial(torch.ones(12500), 10000, replacement=False)\n",
    "    good_mask = torch.multinomial(torch.ones(10000), 10000, replacement=False)\n",
    "    trials=1000\n",
    "    for space in [20000]:\n",
    "        get_errors(\"Count-Min\", \"No Screening\", freqs, no_mask, space, trials)\n",
    "        get_errors(\"Count-Min\", \"Imperfect Screening\", freqs, bad_mask, space, trials)\n",
    "        get_errors(\"Count-Min\", \"Perfect Screening\", freqs, good_mask, space, trials)\n",
    "    \n",
    "for zipf in [1]:\n",
    "    freqs = ((n / torch.arange(1, n+1)) ** zipf).int()\n",
    "    get_all_errors(freqs)"
   ]
  }
 ],
 "metadata": {
  "kernelspec": {
   "display_name": "Python 3",
   "language": "python",
   "name": "python3"
  },
  "language_info": {
   "codemirror_mode": {
    "name": "ipython",
    "version": 3
   },
   "file_extension": ".py",
   "mimetype": "text/x-python",
   "name": "python",
   "nbconvert_exporter": "python",
   "pygments_lexer": "ipython3",
   "version": "3.8.5"
  }
 },
 "nbformat": 4,
 "nbformat_minor": 4
}
