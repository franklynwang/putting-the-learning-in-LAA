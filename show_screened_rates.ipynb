{
 "metadata": {
  "language_info": {
   "name": "python",
   "nbconvert_exporter": "python",
   "pygments_lexer": "ipython3"
  }
 },
 "nbformat": 4,
 "nbformat_minor": 2,
 "cells": [
  {
   "cell_type": "code",
   "execution_count": null,
   "source": [
    "import numpy as np\n",
    "import pandas as pd\n",
    "import matplotlib.pyplot as plt\n",
    "\n",
    "def load_many(path, path2):\n",
    "    if not isinstance(path, list):\n",
    "        path = [path]\n",
    "    test_outs = []\n",
    "    for p in path:\n",
    "        f = np.load(p)\n",
    "        valid_out = f[\"valid_output\"].flatten()\n",
    "        test_outs.append(f[\"test_output\"].flatten())\n",
    "    test_out = np.concatenate(tuple(test_outs))\n",
    "    if not isinstance(path2, list):\n",
    "        path2 = [path2]\n",
    "    true_outs = []\n",
    "    for p in path2:\n",
    "        true = np.load(p, allow_pickle=True).item()['y']\n",
    "        true_outs.append(true)\n",
    "    true_out = np.concatenate(tuple(true_outs))\n",
    "    test_out += 0.00001 * np.random.randn(*test_out.shape)\n",
    "    return true_out, valid_out, test_out\n",
    "\n",
    "def get_error(path_to_preds, path_to_true, method, minute):\n",
    "    true_out, _, test_out = load_many(path_to_preds, path_to_true)\n",
    "    df = pd.DataFrame({\"true\": true_out, \"preds\": test_out}).sample(frac=1)\n",
    "    cutoff = df[\"preds\"].quantile(.9)\n",
    "    df = df.sort_values(by = [\"true\"])\n",
    "    df[\"accepted\"] = (df[\"preds\"] < cutoff).astype(int)\n",
    "    df[\"true_rank\"] = (df[\"true\"].rank(method=\"first\") * 500 / (len(df)) * 0.99999).astype(int)\n",
    "    df2 = df.groupby([\"true_rank\"]).mean()\n",
    "    q = np.linspace(0, 100, len(df2))\n",
    "    plt.plot(q, 1 - df2.accepted)\n",
    "    plt.plot([90, 90], [0, 1.0], label=\"Heavy Hitter Threshold\")\n",
    "    plt.xlabel(\"Frequency Percentile\")\n",
    "    plt.ylabel(\"Screening Probability\")\n",
    "    plt.title(\"Screened Rate\")\n",
    "    plt.savefig(f\"{method}_acceptance_rate_minute{minute:02d}.png\")\n",
    "    plt.legend()\n",
    "    plt.show()\n",
    "\n",
    "for minute in [8, 29, 59]:\n",
    "    for method in [\"bn-8-HsuRNN-True-ckpts-forwards-more\", \"bn-64-HsuRNN-True-ckpts-forwards-more\", \n",
    "                    \"l1-HsuRNN-False-ckpts-forwards-more\", \"l1-HsuRNN-True-ckpts-forwards-more\",\n",
    "                    \"log_mse-HsuRNN-False-ckpts-forwards-more\", \"log_mse-HsuRNN-True-ckpts-forwards-more\"]:    \n",
    "        for trial in [1]:\n",
    "            path_to_preds = f\"tb_logs_modded/{method}/trial{trial}/lightning_logs/predictions{minute:02d}_res.npz\"\n",
    "            path_to_true = f\"equinix-chicago.dirA.20160121-13{minute:02d}00.ports.npy\" \n",
    "            get_error(path_to_preds, path_to_true, method, minute)\n",
    "    "
   ],
   "outputs": [],
   "metadata": {}
  },
  {
   "cell_type": "code",
   "execution_count": null,
   "source": [],
   "outputs": [],
   "metadata": {}
  }
 ]
}
