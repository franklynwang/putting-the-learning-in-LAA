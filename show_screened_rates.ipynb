{
 "metadata": {
  "language_info": {
   "codemirror_mode": {
    "name": "ipython",
    "version": 3
   },
   "file_extension": ".py",
   "mimetype": "text/x-python",
   "name": "python",
   "nbconvert_exporter": "python",
   "pygments_lexer": "ipython3",
   "version": "3.7.4-final"
  },
  "orig_nbformat": 2,
  "kernelspec": {
   "name": "python3",
   "display_name": "Python 3",
   "language": "python"
  }
 },
 "nbformat": 4,
 "nbformat_minor": 2,
 "cells": [
  {
   "cell_type": "code",
   "execution_count": 1,
   "metadata": {},
   "outputs": [
    {
     "output_type": "error",
     "ename": "FileNotFoundError",
     "evalue": "[Errno 2] No such file or directory: 'equinix-chicago.dirA.20160121-130800.ports.npy'",
     "traceback": [
      "\u001b[0;31m---------------------------------------------------------------------------\u001b[0m",
      "\u001b[0;31mFileNotFoundError\u001b[0m                         Traceback (most recent call last)",
      "\u001b[0;32m<ipython-input-1-3e2bb4ba864d>\u001b[0m in \u001b[0;36m<module>\u001b[0;34m\u001b[0m\n\u001b[1;32m     32\u001b[0m         \u001b[0;32mfor\u001b[0m \u001b[0mtrial\u001b[0m \u001b[0;32min\u001b[0m \u001b[0;34m[\u001b[0m\u001b[0;36m1\u001b[0m\u001b[0;34m]\u001b[0m\u001b[0;34m:\u001b[0m\u001b[0;34m\u001b[0m\u001b[0;34m\u001b[0m\u001b[0m\n\u001b[1;32m     33\u001b[0m             \u001b[0mpath\u001b[0m \u001b[0;34m=\u001b[0m \u001b[0;34mf\"all_logs/{method}/trial{trial}/lightning_logs/predictions{minute:02d}_res.npz\"\u001b[0m\u001b[0;34m\u001b[0m\u001b[0;34m\u001b[0m\u001b[0m\n\u001b[0;32m---> 34\u001b[0;31m             \u001b[0mtrue_out\u001b[0m\u001b[0;34m,\u001b[0m \u001b[0mvalid_out\u001b[0m\u001b[0;34m,\u001b[0m \u001b[0mtest_out\u001b[0m \u001b[0;34m=\u001b[0m \u001b[0mload_many\u001b[0m\u001b[0;34m(\u001b[0m\u001b[0mpath\u001b[0m\u001b[0;34m,\u001b[0m \u001b[0mpath2\u001b[0m\u001b[0;34m)\u001b[0m\u001b[0;34m\u001b[0m\u001b[0;34m\u001b[0m\u001b[0m\n\u001b[0m\u001b[1;32m     35\u001b[0m             \u001b[0mdf\u001b[0m \u001b[0;34m=\u001b[0m \u001b[0mpd\u001b[0m\u001b[0;34m.\u001b[0m\u001b[0mDataFrame\u001b[0m\u001b[0;34m(\u001b[0m\u001b[0;34m{\u001b[0m\u001b[0;34m\"true\"\u001b[0m\u001b[0;34m:\u001b[0m \u001b[0mtrue_out\u001b[0m\u001b[0;34m,\u001b[0m \u001b[0;34m\"preds\"\u001b[0m\u001b[0;34m:\u001b[0m \u001b[0mtest_out\u001b[0m\u001b[0;34m}\u001b[0m\u001b[0;34m)\u001b[0m\u001b[0;34m.\u001b[0m\u001b[0msample\u001b[0m\u001b[0;34m(\u001b[0m\u001b[0mfrac\u001b[0m\u001b[0;34m=\u001b[0m\u001b[0;36m1\u001b[0m\u001b[0;34m)\u001b[0m\u001b[0;34m\u001b[0m\u001b[0;34m\u001b[0m\u001b[0m\n\u001b[1;32m     36\u001b[0m             \u001b[0mcutoff\u001b[0m \u001b[0;34m=\u001b[0m \u001b[0mdf\u001b[0m\u001b[0;34m[\u001b[0m\u001b[0;34m\"preds\"\u001b[0m\u001b[0;34m]\u001b[0m\u001b[0;34m.\u001b[0m\u001b[0mquantile\u001b[0m\u001b[0;34m(\u001b[0m\u001b[0;36m.9\u001b[0m\u001b[0;34m)\u001b[0m\u001b[0;34m\u001b[0m\u001b[0;34m\u001b[0m\u001b[0m\n",
      "\u001b[0;32m<ipython-input-1-3e2bb4ba864d>\u001b[0m in \u001b[0;36mload_many\u001b[0;34m(path, path2)\u001b[0m\n\u001b[1;32m     16\u001b[0m     \u001b[0mtrue_outs\u001b[0m \u001b[0;34m=\u001b[0m \u001b[0;34m[\u001b[0m\u001b[0;34m]\u001b[0m\u001b[0;34m\u001b[0m\u001b[0;34m\u001b[0m\u001b[0m\n\u001b[1;32m     17\u001b[0m     \u001b[0;32mfor\u001b[0m \u001b[0mp\u001b[0m \u001b[0;32min\u001b[0m \u001b[0mpath2\u001b[0m\u001b[0;34m:\u001b[0m\u001b[0;34m\u001b[0m\u001b[0;34m\u001b[0m\u001b[0m\n\u001b[0;32m---> 18\u001b[0;31m         \u001b[0mtrue\u001b[0m \u001b[0;34m=\u001b[0m \u001b[0mnp\u001b[0m\u001b[0;34m.\u001b[0m\u001b[0mload\u001b[0m\u001b[0;34m(\u001b[0m\u001b[0mp\u001b[0m\u001b[0;34m,\u001b[0m \u001b[0mallow_pickle\u001b[0m\u001b[0;34m=\u001b[0m\u001b[0;32mTrue\u001b[0m\u001b[0;34m)\u001b[0m\u001b[0;34m.\u001b[0m\u001b[0mitem\u001b[0m\u001b[0;34m(\u001b[0m\u001b[0;34m)\u001b[0m\u001b[0;34m[\u001b[0m\u001b[0;34m'y'\u001b[0m\u001b[0;34m]\u001b[0m\u001b[0;34m\u001b[0m\u001b[0;34m\u001b[0m\u001b[0m\n\u001b[0m\u001b[1;32m     19\u001b[0m         \u001b[0mtrue_outs\u001b[0m\u001b[0;34m.\u001b[0m\u001b[0mappend\u001b[0m\u001b[0;34m(\u001b[0m\u001b[0mtrue\u001b[0m\u001b[0;34m)\u001b[0m\u001b[0;34m\u001b[0m\u001b[0;34m\u001b[0m\u001b[0m\n\u001b[1;32m     20\u001b[0m     \u001b[0mtrue_out\u001b[0m \u001b[0;34m=\u001b[0m \u001b[0mnp\u001b[0m\u001b[0;34m.\u001b[0m\u001b[0mconcatenate\u001b[0m\u001b[0;34m(\u001b[0m\u001b[0mtuple\u001b[0m\u001b[0;34m(\u001b[0m\u001b[0mtrue_outs\u001b[0m\u001b[0;34m)\u001b[0m\u001b[0;34m)\u001b[0m\u001b[0;34m\u001b[0m\u001b[0;34m\u001b[0m\u001b[0m\n",
      "\u001b[0;32m/opt/anaconda3/lib/python3.7/site-packages/numpy/lib/npyio.py\u001b[0m in \u001b[0;36mload\u001b[0;34m(file, mmap_mode, allow_pickle, fix_imports, encoding)\u001b[0m\n\u001b[1;32m    426\u001b[0m         \u001b[0mown_fid\u001b[0m \u001b[0;34m=\u001b[0m \u001b[0;32mFalse\u001b[0m\u001b[0;34m\u001b[0m\u001b[0;34m\u001b[0m\u001b[0m\n\u001b[1;32m    427\u001b[0m     \u001b[0;32melse\u001b[0m\u001b[0;34m:\u001b[0m\u001b[0;34m\u001b[0m\u001b[0;34m\u001b[0m\u001b[0m\n\u001b[0;32m--> 428\u001b[0;31m         \u001b[0mfid\u001b[0m \u001b[0;34m=\u001b[0m \u001b[0mopen\u001b[0m\u001b[0;34m(\u001b[0m\u001b[0mos_fspath\u001b[0m\u001b[0;34m(\u001b[0m\u001b[0mfile\u001b[0m\u001b[0;34m)\u001b[0m\u001b[0;34m,\u001b[0m \u001b[0;34m\"rb\"\u001b[0m\u001b[0;34m)\u001b[0m\u001b[0;34m\u001b[0m\u001b[0;34m\u001b[0m\u001b[0m\n\u001b[0m\u001b[1;32m    429\u001b[0m         \u001b[0mown_fid\u001b[0m \u001b[0;34m=\u001b[0m \u001b[0;32mTrue\u001b[0m\u001b[0;34m\u001b[0m\u001b[0;34m\u001b[0m\u001b[0m\n\u001b[1;32m    430\u001b[0m \u001b[0;34m\u001b[0m\u001b[0m\n",
      "\u001b[0;31mFileNotFoundError\u001b[0m: [Errno 2] No such file or directory: 'equinix-chicago.dirA.20160121-130800.ports.npy'"
     ]
    }
   ],
   "source": [
    "import numpy as np\n",
    "import pandas as pd\n",
    "import matplotlib.pyplot as plt\n",
    "\n",
    "def load_many(path, path2):\n",
    "    if not isinstance(path, list):\n",
    "        path = [path]\n",
    "    test_outs = []\n",
    "    for p in path:\n",
    "        f = np.load(p)\n",
    "        valid_out = f[\"valid_output\"].flatten()\n",
    "        test_outs.append(f[\"test_output\"].flatten())\n",
    "    test_out = np.concatenate(tuple(test_outs))\n",
    "    if not isinstance(path2, list):\n",
    "        path2 = [path2]\n",
    "    true_outs = []\n",
    "    for p in path2:\n",
    "        true = np.load(p, allow_pickle=True).item()['y']\n",
    "        true_outs.append(true)\n",
    "    true_out = np.concatenate(tuple(true_outs))\n",
    "    test_out += 0.00001 * np.random.randn(*test_out.shape)\n",
    "    return true_out, valid_out, test_out\n",
    "\n",
    "\n",
    "for minute in [8, 29, 59]:\n",
    "    path2 = f\"equinix-chicago.dirA.20160121-13{minute:02d}00.ports.npy\" \n",
    "\n",
    "    for method in [\"bn-8-HsuRNN-True-ckpts-forwards-more\", \"bn-64-HsuRNN-True-ckpts-forwards-more\", \n",
    "                   \"l1-HsuRNN-False-ckpts-forwards-more\", \"l1-HsuRNN-True-ckpts-forwards-more\",\n",
    "                   \"log_mse-HsuRNN-False-ckpts-forwards-more\", \"log_mse-HsuRNN-True-ckpts-forwards-more\"]:\n",
    "\n",
    "        for trial in [1]:\n",
    "            path = f\"all_logs/{method}/trial{trial}/lightning_logs/predictions{minute:02d}_res.npz\"\n",
    "            true_out, valid_out, test_out = load_many(path, path2)\n",
    "            df = pd.DataFrame({\"true\": true_out, \"preds\": test_out}).sample(frac=1)\n",
    "            cutoff = df[\"preds\"].quantile(.9)\n",
    "            df = df.sort_values(by = [\"true\"])\n",
    "            df[\"accepted\"] = (df[\"preds\"] < cutoff).astype(int)\n",
    "            df[\"true_rank\"] = (df[\"true\"].rank(method=\"first\") * 500 / (len(df)) * 0.99999).astype(int)\n",
    "            df2 = df.groupby([\"true_rank\"]).mean()\n",
    "            q = np.linspace(0, 100, len(df2))\n",
    "            plt.plot(q, 1 - df2.accepted)\n",
    "            plt.plot([90, 90], [0, 1.0], label=\"Heavy Hitter Threshold\")\n",
    "            plt.xlabel(\"Frequency Percentile\")\n",
    "            plt.ylabel(\"Screening Probability\")\n",
    "            plt.title(\"Screened Rate\")\n",
    "            plt.savefig(f\"{method}_acceptance_rate_minute{minute:02d}.png\")\n",
    "            plt.legend()\n",
    "            plt.show()"
   ]
  },
  {
   "cell_type": "code",
   "execution_count": null,
   "metadata": {},
   "outputs": [],
   "source": []
  }
 ]
}