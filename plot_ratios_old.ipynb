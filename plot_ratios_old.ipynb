{
 "cells": [
  {
   "cell_type": "code",
   "execution_count": null,
   "metadata": {},
   "outputs": [],
   "source": [
    "import numpy as np\n",
    "import pandas as pd\n",
    "import numpy as np\n",
    "import sketches\n",
    "import matplotlib.pyplot as plt\n",
    "import torch\n",
    "from tqdm import tqdm\n",
    "from pathlib import Path\n",
    "import itertools\n",
    "from multiprocessing import Pool, cpu_count\n",
    "\n",
    "trial=1\n",
    "xcol = \"space_final\"\n",
    "ycol = \"f_error_final\"\n",
    "\n",
    "def get_clean_name(codename):\n",
    "    translator = {\"theirs\": \"Theirs\",\n",
    "                  \"bn-8-HsuRNN-True-ckpts-forwards-more\": \"BatchRank (K = 8)\",\n",
    "                  \"bn-64-HsuRNN-True-ckpts-forwards-more\": \"BatchRank (K = 64)\",\n",
    "                  \"l1-HsuRNN-False-ckpts-forwards-more\": \"Unweighted L1 Loss\",\n",
    "                  \"l1-HsuRNN-True-ckpts-forwards-more\": \"Weighted L1 Loss\",\n",
    "                  \"log_mse-HsuRNN-False-ckpts-forwards-more\": \"Unweighted Log Loss\",\n",
    "                  \"log_mse-HsuRNN-True-ckpts-forwards-more\": \"Weighted Log Loss\",                 \n",
    "                 }\n",
    "    return translator[codename]\n",
    "\n",
    "for instantiation in [\"ours\"]:\n",
    "    for formula in [\"std\"]:\n",
    "        for minute in [8, 29, 59]:\n",
    "            for fixed_width in [1000, 3000, 10000, 30000, 100000]:\n",
    "                a = np.load(f\"equinix-chicago.dirA.20160121-13{minute:02d}00.ports.npy\", allow_pickle=True)\n",
    "                sm = a.item()['y'].sum()\n",
    "                for sketch_type in [\"cm\"]:\n",
    "                    A = None\n",
    "                    for method in [\"bn-8-HsuRNN-True-ckpts-forwards-more\", \"bn-64-HsuRNN-True-ckpts-forwards-more\", \"l1-HsuRNN-False-ckpts-forwards-more\",\n",
    "                          \"l1-HsuRNN-True-ckpts-forwards-more\", \"log_mse-HsuRNN-False-ckpts-forwards-more\", \"log_mse-HsuRNN-True-ckpts-forwards-more\"]: \n",
    "                        exp_path = f\"all_logs/{method}/trial{trial}/lightning_logs/minute{minute:02d}_{formula}_giant_results.ftr\"\n",
    "                        df_result = pd.read_feather(exp_path)\n",
    "                        df_result = df_result.groupby([\"width\", \"nhashes\", \"perc\"]).agg({\"f_error\": [\"mean\", \"std\"], \"sum\": [\"mean\"], \"space\": [\"mean\"]}).reset_index()\n",
    "                        df_result[\"f_error_final\"] = df_result[\"f_error\"][\"mean\"]\n",
    "                        df_result[\"space_final\"] = df_result[\"space\"][\"mean\"] \n",
    "                        df_result[\"sum_final\"] = df_result[\"sum\"][\"mean\"]\n",
    "                        df_result[\"ar_final\"] = df_result[\"f_error_final\"] * sm / df_result[\"sum_final\"]\n",
    "                        df_result[\"theory_ar_final\"] = df_result[\"sum_final\"] / df_result[\"width\"]\n",
    "                        A = df_result.copy()\n",
    "                        B = None\n",
    "                        for their_method in [\"log_mse-HsuRNN-False-ckpts-forwards-more\"]:\n",
    "                            if instantiation == \"theirs\":\n",
    "                                exp_path_theirs = f\"all_logs/theirs/minute{minute:02d}_{formula}_small_results.ftr\"\n",
    "                            if instantiation == \"ours\":\n",
    "                                exp_path_theirs = f\"all_logs{their_method}/trial{trial}/lightning_logs/minute{minute:02d}_{formula}_giant_results.ftr\"\n",
    "\n",
    "                            df_result = pd.read_feather(exp_path_theirs)\n",
    "                            df_result = df_result.groupby([\"width\", \"nhashes\", \"perc\"]).agg({\"f_error\": [\"mean\", \"std\"], \"sum\": [\"mean\"], \"space\": [\"mean\"]}).reset_index()\n",
    "                            df_result[\"f_error_final\"] = df_result[\"f_error\"][\"mean\"]\n",
    "                            df_result[\"space_final\"] = df_result[\"space\"][\"mean\"]\n",
    "                            df_result[\"sum_final\"] = df_result[\"sum\"][\"mean\"]\n",
    "                            df_result[\"ar_final\"] = df_result[\"f_error_final\"] * sm / df_result[\"sum_final\"]\n",
    "                            df_result[\"theory_ar_final\"] = df_result[\"sum_final\"] / df_result[\"width\"]\n",
    "                            B = df_result.copy()\n",
    "                            plt.figure(figsize=(5, 5))\n",
    "                            A = A[A.width == fixed_width]\n",
    "                            B = B[B.width == fixed_width]\n",
    "                            plt.plot(B[B.nhashes == 1][\"perc\"], B[B.nhashes == 1][\"sum_final\"] / A[A.nhashes == 1][\"sum_final\"], label = \"cc ratio\")\n",
    "                            for fixed_hashes in [1, 2, 3, 4]:\n",
    "                                def get_descriptor(i):\n",
    "                                    if i == 1:\n",
    "                                        return \"1 hash\"\n",
    "                                    if i > 1:\n",
    "                                        return f\"{i} hashes\"\n",
    "                                C = A[A.nhashes == fixed_hashes]\n",
    "                                D = B[B.nhashes == fixed_hashes]\n",
    "                                plt.plot(D[\"perc\"], D[\"f_error_final\"] / C[\"f_error_final\"], label = f\"error ratio ({get_descriptor(fixed_hashes)})\")\n",
    "\n",
    "                            plt.legend()\n",
    "                            plt.title(f\"Minute {minute + 1}, {get_clean_name(method)}, width {fixed_width}\")\n",
    "                            plt.xlabel(\"Explicit Counter Percentage (%)\")\n",
    "                            plt.ylabel(\"Ratio (Theirs / Ours)\")\n",
    "                            plt.savefig(f\"perfmin{method}{minute:02d}{formula}-{instantiation}-width{fixed_width}.png\")\n",
    "                            plt.show()    \n"
   ]
  },
  {
   "cell_type": "code",
   "execution_count": null,
   "metadata": {},
   "outputs": [],
   "source": [
    "import numpy as np\n",
    "import pandas as pd\n",
    "import numpy as np\n",
    "import sketches\n",
    "import matplotlib.pyplot as plt\n",
    "import torch\n",
    "from tqdm import tqdm\n",
    "from pathlib import Path\n",
    "import itertools\n",
    "from multiprocessing import Pool, cpu_count\n",
    "\n",
    "trial=1\n",
    "xcol = \"space_final\"\n",
    "ycol = \"f_error_final\"\n",
    "\n",
    "def get_clean_name(codename):\n",
    "    translator = {\n",
    "            \"bn-HsuAOLRNN-8-ckpts-forwards-AOL\": \"BatchRank (K = 8)\",\n",
    "            \"bn-Hsu_AOL_RNN-64-ckpts-forwards-AOL\": \"BatchRank (K = 64)\",\n",
    "            \"log_mse-HsuAOLRNN-False-ckpts-forwards-AOL\": \"Unweighted Log Loss\",\n",
    "            \"log_mse-HsuAOLRNN-True-ckpts-forwards-AOL\" : \"Weighted Log Loss\",  \n",
    "            \"log_mse-HsuAOLRNN-False-ckpts-forwards-AOL-absurd\": \"Absurd\",\n",
    "            \"bn-HsuAOLRNN-8-ckpts-forwards-AOL-big\": \"BatchRank (K = 8)\",\n",
    "            \"bn-Hsu_AOL_RNN-64-ckpts-forwards-AOL-big\": \"BatchRank (K = 64)\",\n",
    "            \"log_mse-HsuAOLRNN-False-ckpts-forwards-AOL-big\": \"Unweighted Log Loss\",\n",
    "            \"log_mse-HsuAOLRNN-True-ckpts-forwards-AOL-big\": \"Weighted Log Loss\",\n",
    "                 }\n",
    "    return translator[codename]\n",
    "\n",
    "for instantiation in [\"ours\"]:\n",
    "    for formula in [\"std\"]:\n",
    "        for day in [49]:\n",
    "            for fixed_width in [100, 300, 1000, 3000, 10000]:\n",
    "                a = np.load(f\"data/aol/1-day_len60/aol_00{day:02d}_len60.npz\", allow_pickle=True)\n",
    "                sm = a['counts'].sum()\n",
    "                for sketch_type in [\"cm\"]:\n",
    "                    A = None\n",
    "                    for method in [\n",
    "                    \"bn-HsuAOLRNN-8-ckpts-forwards-AOL-big\",\n",
    "                    \"bn-Hsu_AOL_RNN-64-ckpts-forwards-AOL-big\",\n",
    "                    \"log_mse-HsuAOLRNN-False-ckpts-forwards-AOL-big\",\n",
    "                    \"log_mse-HsuAOLRNN-True-ckpts-forwards-AOL-big\",\n",
    "                    ]:\n",
    "                        exp_path = f\"all_logs/{method}/trial{trial}/day{day:02d}_{formula}_giant_results.ftr\"\n",
    "                        df_result = pd.read_feather(exp_path)\n",
    "                        df_result = df_result.groupby([\"width\", \"nhashes\", \"perc\"]).agg({\"f_error\": [\"mean\", \"std\"], \"sum\": [\"mean\"], \"space\": [\"mean\"]}).reset_index()\n",
    "                        df_result[\"f_error_final\"] = df_result[\"f_error\"][\"mean\"]\n",
    "                        df_result[\"space_final\"] = df_result[\"space\"][\"mean\"] \n",
    "                        df_result[\"sum_final\"] = df_result[\"sum\"][\"mean\"]\n",
    "                        print(df_result[\"sum_final\"].mean())\n",
    "                        df_result[\"ar_final\"] = df_result[\"f_error_final\"] * sm / df_result[\"sum_final\"]\n",
    "                        df_result[\"theory_ar_final\"] = df_result[\"sum_final\"] / df_result[\"width\"]\n",
    "                        A = df_result.copy()\n",
    "                        print(A)\n",
    "                        B = None\n",
    "                        for their_method in [\"log_mse-HsuAOLRNN-False-ckpts-forwards-AOL-big\"]:\n",
    "                            if instantiation == \"theirs\":\n",
    "                                exp_path_theirs = f\"all_logs/theirs/day{day:02d}_{formula}_small_results.ftr\"\n",
    "                            if instantiation == \"ours\":\n",
    "                                exp_path_theirs = f\"all_logs/{their_method}/trial{trial}/day{day:02d}_{formula}_giant_results.ftr\"\n",
    "\n",
    "                            df_result = pd.read_feather(exp_path_theirs)\n",
    "                            df_result = df_result.groupby([\"width\", \"nhashes\", \"perc\"]).agg({\"f_error\": [\"mean\", \"std\"], \"sum\": [\"mean\"], \"space\": [\"mean\"]}).reset_index()\n",
    "                            df_result[\"f_error_final\"] = df_result[\"f_error\"][\"mean\"]\n",
    "                            df_result[\"space_final\"] = df_result[\"space\"][\"mean\"]\n",
    "                            df_result[\"sum_final\"] = df_result[\"sum\"][\"mean\"]\n",
    "                            df_result[\"ar_final\"] = df_result[\"f_error_final\"] * sm / df_result[\"sum_final\"]\n",
    "                            df_result[\"theory_ar_final\"] = df_result[\"sum_final\"] / df_result[\"width\"]\n",
    "                            B = df_result.copy()\n",
    "                            plt.figure(figsize=(5, 5))\n",
    "                            A = A[A.width == fixed_width]\n",
    "                            B = B[B.width == fixed_width]\n",
    "                            plt.plot(B[B.nhashes == 1][\"perc\"], B[B.nhashes == 1][\"sum_final\"] / A[A.nhashes == 1][\"sum_final\"], label = \"cc ratio\")\n",
    "                            for fixed_hashes in [1, 2, 3, 4]:\n",
    "                                def get_descriptor(i):\n",
    "                                    if i == 1:\n",
    "                                        return \"1 hash\"\n",
    "                                    if i > 1:\n",
    "                                        return f\"{i} hashes\"\n",
    "                                C = A[A.nhashes == fixed_hashes]\n",
    "                                D = B[B.nhashes == fixed_hashes]\n",
    "                                plt.plot(D[\"perc\"], D[\"f_error_final\"] / C[\"f_error_final\"], label = f\"error ratio ({get_descriptor(fixed_hashes)})\")\n",
    "\n",
    "                            plt.legend()\n",
    "                            plt.title(f\"Day {day + 1}, {get_clean_name(method)}, width {fixed_width}\")\n",
    "                            plt.xlabel(\"Explicit Counter Percentage (%)\")\n",
    "                            plt.ylabel(\"Ratio (Theirs / Ours)\")\n",
    "                            plt.savefig(f\"perfmin{method}{day:02d}{formula}-{instantiation}-width{fixed_width}.svg\", bbox_inches=\"tight\")\n",
    "                            plt.show()    \n"
   ]
  },
  {
   "cell_type": "code",
   "execution_count": null,
   "metadata": {},
   "outputs": [],
   "source": [
    "import numpy as np"
   ]
  },
  {
   "cell_type": "code",
   "execution_count": null,
   "metadata": {},
   "outputs": [],
   "source": [
    "X = np.load(\"all_logs/log_mse-HsuAOLRNN-False-ckpts-forwards-AOL-absurd/trial0/predictions49_res.npz\")"
   ]
  },
  {
   "cell_type": "code",
   "execution_count": null,
   "metadata": {},
   "outputs": [],
   "source": [
    "X.files"
   ]
  },
  {
   "cell_type": "code",
   "execution_count": null,
   "metadata": {},
   "outputs": [],
   "source": [
    "X['test_output'][0:100]"
   ]
  },
  {
   "cell_type": "code",
   "execution_count": null,
   "metadata": {},
   "outputs": [],
   "source": [
    "X['valid_output']"
   ]
  },
  {
   "cell_type": "code",
   "execution_count": null,
   "metadata": {},
   "outputs": [],
   "source": [
    "X['test_loss']"
   ]
  },
  {
   "cell_type": "code",
   "execution_count": null,
   "metadata": {},
   "outputs": [],
   "source": [
    "import numpy as np"
   ]
  },
  {
   "cell_type": "code",
   "execution_count": null,
   "metadata": {},
   "outputs": [],
   "source": [
    "a = np.load(f\"data/aol/1-day_len60/aol_0049_len60.npz\", allow_pickle=True)\n",
    "z = a[\"counts\"]"
   ]
  },
  {
   "cell_type": "code",
   "execution_count": null,
   "metadata": {},
   "outputs": [],
   "source": [
    "len(z)"
   ]
  },
  {
   "cell_type": "code",
   "execution_count": null,
   "metadata": {},
   "outputs": [],
   "source": [
    "z[int(144039 * 0.01)]"
   ]
  },
  {
   "cell_type": "code",
   "execution_count": null,
   "metadata": {},
   "outputs": [],
   "source": []
  }
 ],
 "metadata": {
  "language_info": {
   "name": "python",
   "nbconvert_exporter": "python",
   "pygments_lexer": "ipython3"
  }
 },
 "nbformat": 4,
 "nbformat_minor": 4
}
